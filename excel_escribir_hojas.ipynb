{
 "cells": [
  {
   "cell_type": "code",
   "execution_count": 6,
   "metadata": {},
   "outputs": [
    {
     "name": "stdout",
     "output_type": "stream",
     "text": [
      "    COD_PROD_06_x        Constante\n",
      "0  [[0.78131079]]  [2674.94027207]\n"
     ]
    }
   ],
   "source": [
    "import pandas as pd\n",
    "df1 = pd.read_csv('C:\\\\Users\\\\Intel\\\\Documents\\\\Mis documentos IDEA\\\\Samples\\\\Exportaciones.ILB\\\\Regresion_SVR01.csv')\n",
    "print(df1)"
   ]
  },
  {
   "cell_type": "code",
   "execution_count": 8,
   "metadata": {},
   "outputs": [
    {
     "name": "stdout",
     "output_type": "stream",
     "text": [
      "                                       Valor nulo  COD_PROD_06_x  \\\n",
      "0  [0.00000000e+00 9.90996064e-01 1.89512543e-09]    4919.669604   \n",
      "\n",
      "   COD_PROD_06_x^2  Constante  \n",
      "0              NaN        NaN  \n"
     ]
    }
   ],
   "source": [
    "df2 = pd.read_csv('C:\\\\Users\\\\Intel\\\\Documents\\\\Mis documentos IDEA\\\\Samples\\\\Exportaciones.ILB\\\\Regresion_Polinomial01.csv')\n",
    "print(df2)"
   ]
  },
  {
   "cell_type": "code",
   "execution_count": 9,
   "metadata": {},
   "outputs": [
    {
     "name": "stdout",
     "output_type": "stream",
     "text": [
      "                          COD_PROD_04  COD_PROD_05  COD_PROD_06  Constante\n",
      "0  [1.00466919 1.00527598 0.99862544]  5437.317987          NaN        NaN\n"
     ]
    }
   ],
   "source": [
    "df3 = pd.read_csv('C:\\\\Users\\\\Intel\\\\Documents\\\\Mis documentos IDEA\\\\Samples\\\\Exportaciones.ILB\\\\Regresion_Multiple01.csv')\n",
    "print(df3)"
   ]
  },
  {
   "cell_type": "code",
   "execution_count": 10,
   "metadata": {},
   "outputs": [],
   "source": [
    "with pd.ExcelWriter('C:\\\\Users\\\\Intel\\\\Documents\\\\Mis documentos IDEA\\\\Samples\\\\Exportaciones.ILB\\\\Resultado_regresiones.xlsx') as writer:\n",
    "    df1.to_excel(writer, sheet_name='Regresion_SVR01')\n",
    "    df2.to_excel(writer, sheet_name='Regresion_Polinomial01')\n",
    "    df3.to_excel(writer, sheet_name='Regresion_Multiple01')"
   ]
  },
  {
   "cell_type": "code",
   "execution_count": null,
   "metadata": {},
   "outputs": [],
   "source": []
  }
 ],
 "metadata": {
  "kernelspec": {
   "display_name": "Python 3",
   "language": "python",
   "name": "python3"
  },
  "language_info": {
   "codemirror_mode": {
    "name": "ipython",
    "version": 3
   },
   "file_extension": ".py",
   "mimetype": "text/x-python",
   "name": "python",
   "nbconvert_exporter": "python",
   "pygments_lexer": "ipython3",
   "version": "3.7.6"
  }
 },
 "nbformat": 4,
 "nbformat_minor": 4
}
